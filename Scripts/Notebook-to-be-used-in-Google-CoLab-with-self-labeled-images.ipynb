{
 "cells": [
  {
   "cell_type": "code",
   "execution_count": null,
   "id": "f394bb00",
   "metadata": {},
   "outputs": [],
   "source": [
    "#clone darknet repo\n",
    "!git clone https://github.com/AlexeyAB/darknet"
   ]
  },
  {
   "cell_type": "code",
   "execution_count": null,
   "id": "f3360641",
   "metadata": {},
   "outputs": [],
   "source": [
    "#change makefile to have GPU and OPENCV enabled\n",
    "%cd darknet\n",
    "!sed -i 's/OPENCV=0/OPENCV=1/' Makefile\n",
    "!sed -i 's/GPU=0/GPU=1/' Makefile\n",
    "!sed -i 's/CUDNN=0/CUDNN=1/' Makefile\n",
    "!sed -i 's/CUDNN_HALF=0/CUDNN_HALF=1/' Makefile"
   ]
  },
  {
   "cell_type": "code",
   "execution_count": null,
   "id": "07be6592",
   "metadata": {},
   "outputs": [],
   "source": [
    "#verify CUDA\n",
    "!/usr/local/cuda/bin/nvcc --version"
   ]
  },
  {
   "cell_type": "code",
   "execution_count": null,
   "id": "fc8d5237",
   "metadata": {},
   "outputs": [],
   "source": [
    "#make darknet (builds darknet so that you can then use the darknet executable file to run or train object detectors)\n",
    "!make"
   ]
  },
  {
   "cell_type": "code",
   "execution_count": null,
   "id": "d108ea41",
   "metadata": {},
   "outputs": [],
   "source": [
    "#get pretrained weights for darknet for Yolov4\n",
    "!wget https://github.com/AlexeyAB/darknet/releases/download/darknet_yolo_v3_optimal/yolov4.weights"
   ]
  },
  {
   "cell_type": "code",
   "execution_count": null,
   "id": "d554f6b2",
   "metadata": {},
   "outputs": [],
   "source": [
    "#define helper functions\n",
    "def imShow(path):\n",
    "  import cv2\n",
    "  import matplotlib.pyplot as plt\n",
    "  %matplotlib inline\n",
    "\n",
    "  image = cv2.imread(path)\n",
    "  height, width = image.shape[:2]\n",
    "  resized_image = cv2.resize(image,(3*width, 3*height), interpolation = cv2.INTER_CUBIC)\n",
    "\n",
    "  fig = plt.gcf()\n",
    "  fig.set_size_inches(18, 10)\n",
    "  plt.axis(\"off\")\n",
    "  plt.imshow(cv2.cvtColor(resized_image, cv2.COLOR_BGR2RGB))\n",
    "  plt.show()\n",
    "\n",
    "#use this to upload files\n",
    "def upload():\n",
    "  from google.colab import files\n",
    "  uploaded = files.upload() \n",
    "  for name, data in uploaded.items():\n",
    "    with open(name, 'wb') as f:\n",
    "      f.write(data)\n",
    "      print ('saved file', name)\n",
    "\n",
    "#use this to download a file  \n",
    "def download(path):\n",
    "  from google.colab import files\n",
    "  files.download(path)"
   ]
  },
  {
   "cell_type": "code",
   "execution_count": null,
   "id": "26ece97e",
   "metadata": {},
   "outputs": [],
   "source": [
    "#run darknet detection on test images\n",
    "!./darknet detector test cfg/coco.data cfg/yolov4.cfg yolov4.weights data/person.jpg"
   ]
  },
  {
   "cell_type": "code",
   "execution_count": null,
   "id": "daa84e46",
   "metadata": {},
   "outputs": [],
   "source": [
    "#show image using our helper function\n",
    "imShow('predictions.jpg')"
   ]
  },
  {
   "cell_type": "code",
   "execution_count": null,
   "id": "025d87c7",
   "metadata": {},
   "outputs": [],
   "source": [
    "#mount Your Google Drive into the CoLab Virtual Machine and Prepare Google Drive Environment\n",
    "%cd ..\n",
    "from google.colab import drive\n",
    "drive.mount('/content/gdrive')"
   ]
  },
  {
   "cell_type": "code",
   "execution_count": null,
   "id": "afeeb2b3",
   "metadata": {},
   "outputs": [],
   "source": [
    "#this creates a symbolic link so that now the path /content/gdrive/My\\ Drive/ is equal to /mydrive\n",
    "!ln -s /content/gdrive/My\\ Drive/ /mydrive\n",
    "!ls /mydrive"
   ]
  },
  {
   "cell_type": "code",
   "execution_count": null,
   "id": "b2bdd170",
   "metadata": {},
   "outputs": [],
   "source": [
    "#cd back into the darknet folder to run detections\n",
    "%cd darknet"
   ]
  },
  {
   "cell_type": "code",
   "execution_count": null,
   "id": "435050e7",
   "metadata": {},
   "outputs": [],
   "source": [
    "#copy over the data from google drive into the directory of the Colab VM\n",
    "!cp /mydrive/yolov4/obj.zip ../\n",
    "!cp /mydrive/yolov4/test.zip ../\n",
    "!cp /mydrive/yolov4/custom-yolo.cfg ./cfg\n",
    "!cp /mydrive/yolov4/obj.names ./data\n",
    "!cp /mydrive/yolov4/obj.data  ./data\n",
    "!cp /mydrive/yolov4/generate_train.py ./\n",
    "!cp /mydrive/yolov4/generate_test.py ./"
   ]
  },
  {
   "cell_type": "code",
   "execution_count": null,
   "id": "84e02916",
   "metadata": {},
   "outputs": [],
   "source": [
    "#unzip the datasets and their contents so that they are now in /darknet/data/ folder\n",
    "!unzip ../obj.zip -d data/obj/\n",
    "!unzip ../test.zip -d data/test/"
   ]
  },
  {
   "cell_type": "code",
   "execution_count": null,
   "id": "a20cd4bb",
   "metadata": {},
   "outputs": [],
   "source": [
    "#create the path names to the training and testing images\n",
    "!python generate_train.py\n",
    "!python generate_test.py"
   ]
  },
  {
   "cell_type": "code",
   "execution_count": null,
   "id": "dd4a96fc",
   "metadata": {},
   "outputs": [],
   "source": [
    "#Download pretrained weights for the convolutional layers of darknet\n",
    "!wget https://github.com/AlexeyAB/darknet/releases/download/darknet_yolo_v3_optimal/yolov4.conv.137"
   ]
  },
  {
   "cell_type": "code",
   "execution_count": null,
   "id": "b6d42cb2",
   "metadata": {},
   "outputs": [],
   "source": [
    "# train your custom detector! (uncomment %%capture below if you run into memory issues or your Colab is crashing)\n",
    "# %%capture\n",
    "!./darknet detector train data/obj.data cfg/yolov4-obj.cfg yolov4.conv.137 -dont_show -map"
   ]
  }
 ],
 "metadata": {
  "kernelspec": {
   "display_name": "Python 3",
   "language": "python",
   "name": "python3"
  },
  "language_info": {
   "codemirror_mode": {
    "name": "ipython",
    "version": 3
   },
   "file_extension": ".py",
   "mimetype": "text/x-python",
   "name": "python",
   "nbconvert_exporter": "python",
   "pygments_lexer": "ipython3",
   "version": "3.9.2"
  }
 },
 "nbformat": 4,
 "nbformat_minor": 5
}